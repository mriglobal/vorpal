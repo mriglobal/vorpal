{
 "cells": [
  {
   "cell_type": "code",
   "execution_count": null,
   "metadata": {},
   "outputs": [],
   "source": [
    "import os\n",
    "import joblib\n",
    "import pandas as pd\n",
    "from sklearn.metrics import accuracy_score\n"
   ]
  },
  {
   "cell_type": "code",
   "execution_count": null,
   "metadata": {},
   "outputs": [],
   "source": [
    "#model files i.e. in vorpal/models\n",
    "clf = joblib.load('')\n",
    "feature_vector = pd.read_pickle('')\n",
    "#training labels\n",
    "meta = pd.read_table('')\n",
    "#test labels\n",
    "test_meta = pd.read_table('')"
   ]
  },
  {
   "cell_type": "code",
   "execution_count": null,
   "metadata": {},
   "outputs": [],
   "source": [
    "#training\n",
    "os.chdir('') #directory for bed files produced by referencemapping_mp.py\n",
    "bed_files = [file for file in os.listdir() if '.bed' in file]\n",
    "\n",
    "beds = [pd.read_table(f,names=['chr','start','end','name','score']) for f in bed_files]\n",
    "\n",
    "#parsing Seq ID step required for RVDB formatted fasta headerrs\n",
    "for i in range(len(beds)):\n",
    "    beds[i]['chr'] = [a[2] for a in beds[i]['chr'].str.split('|').values]\n",
    "\n",
    "\n",
    "feature_dict = {}\n",
    "\n",
    "print(\"Building feature dict.\")\n",
    "for b in beds:\n",
    "    accession_num = b['chr'].unique()[0]\n",
    "    feature_dict[accession_num]={f:0 for f in feature_vector}\n",
    "    feature_dict[accession_num].update(b['name'].value_counts().to_dict())\n",
    "\n",
    "feature_table = pd.DataFrame(feature_dict).T.fillna(0.0)\n",
    "feature_table.index.name = \"accession\"\n",
    "feature_table.reset_index(inplace=True)\n",
    "training_table = pd.merge(feature_table,meta)\n",
    "print(\"Dropping ambiguous labels.\")\n",
    "training_table = training_table[training_table['label'] != -1]\n",
    "train_labels = training_table['label']"
   ]
  },
  {
   "cell_type": "code",
   "execution_count": null,
   "metadata": {},
   "outputs": [],
   "source": [
    "#accuracy score on training data\n",
    "train_features = training_table[feature_vector].copy()\n",
    "accuracy_score(train_labels,clf.predict(train_features.values))"
   ]
  },
  {
   "cell_type": "code",
   "execution_count": null,
   "metadata": {},
   "outputs": [],
   "source": [
    "#misclassifieds out\n",
    "training_table['predict'] = clf.predict(train_features.values)\n",
    "training_table['predict_proba'] = clf.predict_proba(train_features.values)[:,1]\n",
    "training_table[training_table['label'] != training_table['predict']][['accession','label','groups','predict','predict_proba']].to_csv('',sep='\\t',index=False)"
   ]
  },
  {
   "cell_type": "code",
   "execution_count": null,
   "metadata": {},
   "outputs": [],
   "source": [
    "#test\n",
    "os.chdir('') #directory for bed files produced by referencemapping_mp.py\n",
    "bed_files = [file for file in os.listdir() if '.bed' in file]\n",
    "\n",
    "beds = [pd.read_table(f,names=['chr','start','end','name','score']) for f in bed_files]\n",
    "\n",
    "feature_dict = {}\n",
    "\n",
    "print(\"Building feature dict.\")\n",
    "for b in beds:\n",
    "    accession_num = b['chr'].unique()[0]\n",
    "    feature_dict[accession_num]={f:0 for f in feature_vector}\n",
    "    feature_dict[accession_num].update(b['name'].value_counts().to_dict())\n",
    "\n",
    "feature_table = pd.DataFrame(feature_dict).T.fillna(0.0)\n",
    "feature_table.index.name = \"accession\"\n",
    "feature_table.reset_index(inplace=True)\n",
    "test_table = pd.merge(feature_table,test_meta)\n",
    "print(\"Dropping ambiguous labels.\")\n",
    "test_table = test_table[test_table['label'] != -1]\n",
    "test_labels = test_table['label']"
   ]
  },
  {
   "cell_type": "code",
   "execution_count": null,
   "metadata": {},
   "outputs": [],
   "source": [
    "#accuracy score on test data\n",
    "test_features = test_table[feature_vector].copy()\n",
    "accuracy_score(test_labels,clf.predict(test_features.values))"
   ]
  },
  {
   "cell_type": "code",
   "execution_count": null,
   "metadata": {},
   "outputs": [],
   "source": [
    "#test set probabilities out\n",
    "test_table['predict'] = clf.predict(test_features.values)\n",
    "test_table['predict_proba'] = clf.predict_proba(test_features.values)[:,1]\n",
    "test_table[['accession','label','predict','predict_proba']].to_csv('',sep='\\t',index=False)"
   ]
  },
  {
   "cell_type": "code",
   "execution_count": null,
   "metadata": {},
   "outputs": [],
   "source": [
    "#predict on new sequence\n",
    "os.chdir('') #directory for bed files produced by referencemapping_mp.py\n",
    "bed_files = [file for file in os.listdir() if '.bed' in file]\n",
    "\n",
    "beds = [pd.read_table(f,names=['chr','start','end','name','score']) for f in bed_files]\n",
    "\n",
    "feature_dict = {}\n",
    "\n",
    "print(\"Building feature dict.\")\n",
    "for b in beds:\n",
    "    accession_num = b['chr'].unique()[0]\n",
    "    feature_dict[accession_num]={f:0 for f in feature_vector}\n",
    "    feature_dict[accession_num].update(b['name'].value_counts().to_dict())\n",
    "\n",
    "predict_table = pd.DataFrame(feature_dict).T.fillna(0.0)\n",
    "predict_table.index.name = \"accession\"\n",
    "predict_table.reset_index(inplace=True)"
   ]
  },
  {
   "cell_type": "code",
   "execution_count": null,
   "metadata": {},
   "outputs": [],
   "source": [
    "#show class predictions and probabilities for new sequences\n",
    "predict_features = predict_table[feature_vector].copy()\n",
    "predict_table['predict'] = clf.predict(predict_features.values)\n",
    "predict_table['predict_proba'] = clf.predict_proba(predict_features.values)[:,1]\n",
    "predict_table[['accession','predict','predict_proba']]"
   ]
  }
 ],
 "metadata": {
  "kernelspec": {
   "display_name": "Python 3",
   "language": "python",
   "name": "python3"
  },
  "language_info": {
   "codemirror_mode": {
    "name": "ipython",
    "version": 3
   },
   "file_extension": ".py",
   "mimetype": "text/x-python",
   "name": "python",
   "nbconvert_exporter": "python",
   "pygments_lexer": "ipython3",
   "version": "3.7.3"
  }
 },
 "nbformat": 4,
 "nbformat_minor": 2
}
